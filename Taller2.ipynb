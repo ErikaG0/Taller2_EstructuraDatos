{
  "nbformat": 4,
  "nbformat_minor": 0,
  "metadata": {
    "colab": {
      "provenance": [],
      "gpuType": "T4"
    },
    "kernelspec": {
      "name": "python3",
      "display_name": "Python 3"
    },
    "language_info": {
      "name": "python"
    },
    "accelerator": "GPU"
  },
  "cells": [
    {
      "cell_type": "code",
      "source": [
        "#Tensor multiplicacion cpu\n",
        "import time\n",
        "import numpy as np\n",
        "\n",
        "import tensorflow as tf\n",
        "\n",
        "def multiplicacion():\n",
        "    matrix1 = tf.constant(np.random.randint(low=5, high=9, size=(9000,6000)), dtype=tf.float32)\n",
        "    matrix2 = tf.constant(np.random.randint(low=0, high=5, size=(6000,9000)), dtype=tf.float32)\n",
        "    print(matrix1.shape)\n",
        "    print(matrix2.shape)\n",
        "\n",
        "    _ = tf.matmul(matrix1, matrix2)\n",
        "\n",
        "\n",
        "def medir_uso():\n",
        "    inicio_tiempo = time.time()\n",
        "    print(\"Inicio Tiempo: \", inicio_tiempo)\n",
        "\n",
        "    # Ejecutar la función\n",
        "    multiplicacion()\n",
        "\n",
        "    fin_tiempo = time.time()\n",
        "\n",
        "\n",
        "    tiempo_transcurrido = fin_tiempo - inicio_tiempo\n",
        "\n",
        "\n",
        "    print(f\"Tiempo transcurrido CPU: {tiempo_transcurrido:.4f} segundos\")\n",
        "\n",
        "medir_uso()"
      ],
      "metadata": {
        "colab": {
          "base_uri": "https://localhost:8080/"
        },
        "id": "i49JBrlUbiiU",
        "outputId": "65b61d01-df85-4971-b20d-996c228e7373"
      },
      "execution_count": null,
      "outputs": [
        {
          "output_type": "stream",
          "name": "stdout",
          "text": [
            "Inicio Tiempo:  1712377648.391856\n",
            "(9000, 6000)\n",
            "(6000, 9000)\n",
            "Tiempo transcurrido CPU: 2.3959 segundos\n"
          ]
        }
      ]
    },
    {
      "cell_type": "code",
      "source": [],
      "metadata": {
        "id": "eL1rgblMqPwG"
      },
      "execution_count": null,
      "outputs": []
    },
    {
      "cell_type": "markdown",
      "source": [],
      "metadata": {
        "id": "31Oz6keOAhgf"
      }
    },
    {
      "cell_type": "code",
      "source": [
        "#Tensor multiplicaion GPU\n",
        "import time\n",
        "import numpy as np\n",
        "import tensorflow as tf\n",
        "\n",
        "def multiplicacion():\n",
        "    matrix1 = tf.constant(np.random.randint(low=5, high=9, size=(9000,6000)), dtype=tf.float32)\n",
        "    matrix2 = tf.constant(np.random.randint(low=0, high=5, size=(6000,9000)), dtype=tf.float32)\n",
        "    print(matrix1.shape)\n",
        "    print(matrix2.shape)\n",
        "\n",
        "    _ = tf.matmul(matrix1, matrix2)\n",
        "\n",
        "\n",
        "def medir_uso_GPU():\n",
        "    with tf.device('/device:GPU:0'):\n",
        "         start_time = time.time()\n",
        "         multiplicacion()\n",
        "         end_time = time.time()\n",
        "         tiempo_gpu = end_time - start_time\n",
        "         print(\"Tiempo de ejecución en GPU:\", tiempo_gpu)\n",
        "\n",
        "medir_uso_GPU()"
      ],
      "metadata": {
        "colab": {
          "base_uri": "https://localhost:8080/"
        },
        "id": "xiIWTCNdEZeO",
        "outputId": "e2c4dad0-c13f-41f7-b328-efaf0a0b0c5a"
      },
      "execution_count": null,
      "outputs": [
        {
          "output_type": "stream",
          "name": "stdout",
          "text": [
            "(9000, 6000)\n",
            "(6000, 9000)\n",
            "Tiempo de ejecución en GPU: 3.2539680004119873\n"
          ]
        }
      ]
    },
    {
      "cell_type": "code",
      "execution_count": null,
      "metadata": {
        "colab": {
          "base_uri": "https://localhost:8080/"
        },
        "id": "bQMVTkoJAJkY",
        "outputId": "0a22af19-fc00-4c4b-b7a5-ba5bb27a9622"
      },
      "outputs": [
        {
          "output_type": "stream",
          "name": "stdout",
          "text": [
            "Inicio Tiempo:  1712366679.349587\n",
            "Inicio Uso CPU:  28.0\n",
            "(9000, 6000)\n",
            "(6000, 9000)\n",
            "Tiempo transcurrido: 591.6947 segundos\n",
            "Uso de CPU: 35.100%\n",
            "Numero de nucleos 2\n"
          ]
        }
      ],
      "source": [
        "#multpilicacion de matrices cpu\n",
        "import time\n",
        "import numpy as np\n",
        "import psutil\n",
        "\n",
        "def multiplicacion():\n",
        "    matrix1 = np.random.randint(low=5, high=9, size=(9000,6000))\n",
        "    matrix2 = np.random.randint(low=0, high=5, size=(9000,6000)).T\n",
        "    print(matrix1.shape)\n",
        "    print(matrix2.shape)\n",
        "\n",
        "    _ = np.dot(matrix1, matrix2)\n",
        "\n",
        "\n",
        "def medir_uso():\n",
        "    inicio_tiempo = time.time()\n",
        "    print(\"Inicio Tiempo: \", inicio_tiempo)\n",
        "    inicio_uso_cpu = psutil.cpu_percent()\n",
        "    print(\"Inicio Uso CPU: \", inicio_uso_cpu)\n",
        "    # Ejecutar la función\n",
        "    multiplicacion()\n",
        "\n",
        "    fin_tiempo = time.time()\n",
        "    fin_uso_cpu = psutil.cpu_percent()\n",
        "\n",
        "    tiempo_transcurrido = fin_tiempo - inicio_tiempo\n",
        "    uso_cpu = fin_uso_cpu - inicio_uso_cpu\n",
        "\n",
        "    print(f\"Tiempo transcurrido: {tiempo_transcurrido:.4f} segundos\")\n",
        "    print(f\"Uso de CPU: {uso_cpu:.3f}%\")\n",
        "    print(\"Numero de nucleos\", psutil.cpu_count())\n",
        "\n",
        "medir_uso()"
      ]
    },
    {
      "cell_type": "code",
      "source": [
        "#multpilicacion de matrices gpu\n",
        "import time\n",
        "import numpy as np\n",
        "import tensorflow as tf\n",
        "\n",
        "def multiplicacion():\n",
        "    matrix1 = np.random.randint(low=5, high=9, size=(9000,6000))\n",
        "    matrix2 = np.random.randint(low=0, high=5, size=(9000,6000)).T\n",
        "    print(matrix1.shape)\n",
        "    print(matrix2.shape)\n",
        "\n",
        "    _ = np.dot(matrix1, matrix2)\n",
        "\n",
        "\n",
        "\n",
        "def medir_uso_GPU():\n",
        "    with tf.device('/device:GPU:0'):\n",
        "         inicio_tiempo = time.time()\n",
        "         print(\"Inicio Tiempo: \", inicio_tiempo)\n",
        "\n",
        "         #Ejecutar la función\n",
        "         multiplicacion()\n",
        "\n",
        "         fin_tiempo = time.time()\n",
        "\n",
        "\n",
        "         tiempo_transcurrido = fin_tiempo - inicio_tiempo\n",
        "\n",
        "\n",
        "         print(f\"Tiempo transcurrido GPU: {tiempo_transcurrido:.4f} segundos\")\n",
        "\n",
        "\n",
        "medir_uso_GPU()"
      ],
      "metadata": {
        "colab": {
          "base_uri": "https://localhost:8080/"
        },
        "id": "pYfyQjW_daXw",
        "outputId": "0d0eb41d-9e92-41fd-8224-f3bf2370d7a7"
      },
      "execution_count": null,
      "outputs": [
        {
          "output_type": "stream",
          "name": "stdout",
          "text": [
            "Inicio Tiempo:  1712376662.9689584\n",
            "(9000, 6000)\n",
            "(6000, 9000)\n",
            "Tiempo transcurrido GPU: 522.1945 segundos\n"
          ]
        }
      ]
    }
  ]
}